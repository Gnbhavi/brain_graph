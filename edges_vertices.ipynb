{
 "cells": [
  {
   "cell_type": "code",
   "execution_count": 1,
   "metadata": {},
   "outputs": [],
   "source": [
    "import os\n",
    "import time\n",
    "import numpy as np\n",
    "import pandas as pd\n",
    "import networkx as nx\n",
    "import matplotlib.pyplot as plt\n",
    "import Ws_model_generator as wsg"
   ]
  },
  {
   "cell_type": "code",
   "execution_count": 2,
   "metadata": {},
   "outputs": [],
   "source": [
    "def file_reader(file_path):\n",
    "    with open(file_path) as f:\n",
    "        array_neigh = [x for x in f.read().split('\\n')]\n",
    "        # print(len(array_neigh))\n",
    "    return array_neigh"
   ]
  },
  {
   "cell_type": "code",
   "execution_count": 3,
   "metadata": {},
   "outputs": [],
   "source": [
    "def myformula_for_finding_n_u_1(n, k):\n",
    "    A = int(np.floor((n - 1)/k))\n",
    "    n_v = [0] * (int(k/2))\n",
    "    h = int(k/2)\n",
    "    mod_rem = np.mod(n + 1, k)\n",
    "    rem_val = [the_rem for the_rem in range(0, int(k/2))]\n",
    "    for i in range(int(k/2)):\n",
    "        if mod_rem not in rem_val[:i+1]:\n",
    "            n_v[i] = (i+1) * A + 1\n",
    "        else:\n",
    "            n_v[i] = (i+1) * A + 1 - (i + 1 - mod_rem)\n",
    "    return n_v"
   ]
  },
  {
   "cell_type": "code",
   "execution_count": 4,
   "metadata": {},
   "outputs": [],
   "source": [
    "def for_index_finding(n_u, n_v, edge_vert = [1, 1], ws_indices=[1, 1, 1, 1, 1]):\n",
    "    if len(n_u) != len(n_v):\n",
    "        print(\"The length of n_u and n_v are not equal\")\n",
    "        return 0, 0, 0, 0, 0\n",
    "    else:\n",
    "        product_val = n_u * n_v\n",
    "        sum_val = n_u + n_v\n",
    "        sz_index = np.sum(product_val)/ (ws_indices[0] * edge_vert[1])\n",
    "        PI_index = np.sum(sum_val)/ (ws_indices[1] * edge_vert[1])\n",
    "        ABC_index = np.sum(np.sqrt((sum_val - 2) / product_val))/ (ws_indices[2])\n",
    "        NGG_index = (np.sum(1/np.sqrt(product_val))) / (ws_indices[3])\n",
    "        Mo_index = np.sum(np.abs(n_u - n_v)) / edge_vert[1]\n",
    "        return sz_index, PI_index, ABC_index, NGG_index, Mo_index"
   ]
  },
  {
   "cell_type": "code",
   "execution_count": 5,
   "metadata": {},
   "outputs": [],
   "source": [
    "def index_creater(folder_path):\n",
    "    edges_vertices_path = os.path.join(folder_path, 'edges_vertices.txt')\n",
    "    neigh_u_path = os.path.join(folder_path, 'neigh_u_val.txt')\n",
    "    neigh_v_path = os.path.join(folder_path, 'neigh_v_val.txt')\n",
    "    edges_vertices = file_reader(edges_vertices_path)\n",
    "    neigh_u = file_reader(neigh_u_path)\n",
    "    neigh_v = file_reader(neigh_v_path)\n",
    "    indices = []\n",
    "    for i in range(len(neigh_u) - 1):\n",
    "        try:\n",
    "            val1 = np.array([int(x) for x in neigh_u[i][1:-1].split(\",\")])\n",
    "            val2 = np.array([int(x) for x in neigh_v[i][1:-1].split(\",\")])  \n",
    "            val3 = np.array([int(x) for x in edges_vertices[i][1:-1].split(\",\")])      \n",
    "        except:\n",
    "            print(\"Error in line: \", i)  \n",
    "            break \n",
    "        k_values = int(val3[1]/val3[0])\n",
    "        n_u = myformula_for_finding_n_u_1(val3[0], k_values)\n",
    "        n_u = n_u * val3[0]\n",
    "        n_u = np.array(n_u)\n",
    "        ws_index = for_index_finding(n_u, n_u)\n",
    "        normalised_index = for_index_finding(val1, val2, ws_index)\n",
    "        indices.append(normalised_index)\n",
    "    return indices"
   ]
  },
  {
   "cell_type": "code",
   "execution_count": 62,
   "metadata": {},
   "outputs": [
    {
     "name": "stdout",
     "output_type": "stream",
     "text": [
      "Done with folder:  Alzheimers_graph_valued_Dataset_2/test/VeryMildDemented\n",
      "Done with folder:  Alzheimers_graph_valued_Dataset_2/test/ModerateDemented\n",
      "Done with folder:  Alzheimers_graph_valued_Dataset_2/test/MildDemented\n",
      "Done with folder:  Alzheimers_graph_valued_Dataset_2/test/NonDemented\n",
      "Done with folder:  Alzheimers_graph_valued_Dataset_2/train/VeryMildDemented\n",
      "Done with folder:  Alzheimers_graph_valued_Dataset_2/train/ModerateDemented\n",
      "Done with folder:  Alzheimers_graph_valued_Dataset_2/train/MildDemented\n",
      "Done with folder:  Alzheimers_graph_valued_Dataset_2/train/NonDemented\n"
     ]
    }
   ],
   "source": [
    "root_folder = 'Alzheimers_graph_valued_Dataset_2'\n",
    "for folder_path, _, files in os.walk(root_folder):\n",
    "    if folder_path.endswith('Demented'):\n",
    "        index_arrays = index_creater(folder_path)\n",
    "        df = pd.DataFrame(index_arrays, columns=[\"sz_index\", \"PI_index\", \"ABC_index\", \"NGG_index\", \"Mo_index\"])\n",
    "        df.to_csv(os.path.join(folder_path, 'indices_normalised.csv'))\n",
    "        print(\"Done with folder: \", folder_path)\n",
    "        continue"
   ]
  },
  {
   "cell_type": "code",
   "execution_count": 12,
   "metadata": {},
   "outputs": [
    {
     "name": "stdout",
     "output_type": "stream",
     "text": [
      "Done with folder:  Alzheimers_graph_valued_Dataset_2/test/VeryMildDemented\n",
      "Done with folder:  Alzheimers_graph_valued_Dataset_2/test/ModerateDemented\n",
      "Done with folder:  Alzheimers_graph_valued_Dataset_2/test/MildDemented\n",
      "Done with folder:  Alzheimers_graph_valued_Dataset_2/test/NonDemented\n"
     ]
    }
   ],
   "source": [
    "Dementia_class = {'NonDemented': 0, 'ModerateDemented': 3, 'VeryMildDemented': 1, 'MildDemented': 2}\n",
    "root_folder = 'Alzheimers_graph_valued_Dataset_2/test/'\n",
    "df = pd.DataFrame(columns=[\"sz_index\", \"PI_index\", \"ABC_index\", \"NGG_index\", \"Mo_index\", \"Dementia_class\"])\n",
    "for folder_path, _, files in os.walk(root_folder):\n",
    "    if folder_path.endswith('Demented'):\n",
    "        index_arrays_val = pd.read_csv(os.path.join(folder_path, 'indices_normalised.csv'))\n",
    "        index_arrays_val = index_arrays_val.drop(['Unnamed: 0'], axis=1)\n",
    "        index_arrays_val['Dementia_class'] = Dementia_class[folder_path.split('/')[-1]]\n",
    "        print(\"Done with folder: \", folder_path)\n",
    "        df = pd.concat([df, index_arrays_val], ignore_index=True)\n",
    "        continue        "
   ]
  },
  {
   "cell_type": "code",
   "execution_count": 13,
   "metadata": {},
   "outputs": [],
   "source": [
    "df.to_csv('Alzheimers_graph_valued_Dataset_2/test/normalised_indices.csv')"
   ]
  },
  {
   "cell_type": "code",
   "execution_count": null,
   "metadata": {},
   "outputs": [],
   "source": []
  }
 ],
 "metadata": {
  "kernelspec": {
   "display_name": "venv-metal-brain",
   "language": "python",
   "name": "python3"
  },
  "language_info": {
   "codemirror_mode": {
    "name": "ipython",
    "version": 3
   },
   "file_extension": ".py",
   "mimetype": "text/x-python",
   "name": "python",
   "nbconvert_exporter": "python",
   "pygments_lexer": "ipython3",
   "version": "3.9.16"
  },
  "orig_nbformat": 4
 },
 "nbformat": 4,
 "nbformat_minor": 2
}
