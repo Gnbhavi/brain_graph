{
 "cells": [
  {
   "cell_type": "code",
   "execution_count": 5,
   "metadata": {},
   "outputs": [],
   "source": [
    "import os\n",
    "import glob\n",
    "import numpy as np\n",
    "import pandas as pd"
   ]
  },
  {
   "cell_type": "code",
   "execution_count": null,
   "metadata": {},
   "outputs": [],
   "source": [
    "pd.to_c"
   ]
  },
  {
   "cell_type": "code",
   "execution_count": 14,
   "metadata": {},
   "outputs": [
    {
     "name": "stdout",
     "output_type": "stream",
     "text": [
      "hi\n",
      "hi\n",
      "hi\n",
      "hi\n"
     ]
    }
   ],
   "source": [
    "root_folder = \"Alzheimers_graph_valued_Dataset_2\"\n",
    "demented_class = {'NonDemented': 0, 'VeryMildDemented': 1, 'MildDemented': 2, 'ModerateDemented': 3}\n",
    "csv_file_full = None\n",
    "for path in glob.glob(\"Alzheimers_graph_valued_Dataset_2/test/*\"):\n",
    "    if path.endswith(\"Demented\"):\n",
    "        print(\"hi\")\n",
    "        indices = \"indices_normalised.csv\"\n",
    "        weiner = \"weiner_index.txt\"\n",
    "        _, class_fold = os.path.split(path)\n",
    "        csv_file = pd.read_csv(os.path.join(path, indices))\n",
    "        csv_file = pd.DataFrame(csv_file)\n",
    "        weiner_indices = np.loadtxt(os.path.join(path, weiner))\n",
    "        csv_file[\"Weiner index\"] = weiner_indices\n",
    "        csv_file[\"demented_class\"] = demented_class[class_fold]\n",
    "        csv_file_full = pd.concat([csv_file_full, csv_file], axis=0)\n",
    "csv_file_full = csv_file_full.drop(['Unnamed: 0'], axis=1)\n",
    "csv_file_full.to_csv(\"test_noemalised_all_index.csv\")\n",
    "\n"
   ]
  },
  {
   "cell_type": "code",
   "execution_count": null,
   "metadata": {},
   "outputs": [],
   "source": []
  }
 ],
 "metadata": {
  "kernelspec": {
   "display_name": "venv-metal-brain",
   "language": "python",
   "name": "python3"
  },
  "language_info": {
   "codemirror_mode": {
    "name": "ipython",
    "version": 3
   },
   "file_extension": ".py",
   "mimetype": "text/x-python",
   "name": "python",
   "nbconvert_exporter": "python",
   "pygments_lexer": "ipython3",
   "version": "3.9.16"
  },
  "orig_nbformat": 4
 },
 "nbformat": 4,
 "nbformat_minor": 2
}
